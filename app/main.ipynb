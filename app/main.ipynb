{
 "cells": [
  {
   "cell_type": "code",
   "metadata": {
    "collapsed": true,
    "pycharm": {
     "name": "#%%\n"
    },
    "ExecuteTime": {
     "end_time": "2025-08-09T00:13:43.557341Z",
     "start_time": "2025-08-09T00:13:43.554657Z"
    }
   },
   "source": [
    "import pandas as pd\n",
    "import numpy as np\n",
    "import matplotlib.pyplot as plt"
   ],
   "outputs": [],
   "execution_count": 11
  },
  {
   "cell_type": "markdown",
   "source": [
    "# Task 0\n",
    "Data extraction: get the data from 3 tables & combine it into single `.csv` file.\n",
    "After that read this file using pandas to create Dataframe.\n",
    "So it will be all joined data in 1 dataframe. Quick check - should be 74818 rows in it."
   ],
   "metadata": {
    "collapsed": false,
    "pycharm": {
     "name": "#%% md\n"
    }
   }
  },
  {
   "cell_type": "code",
   "source": [
    "import sqlite3\n",
    "\n",
    "\n",
    "db_path = \"../db.sqlite3\"\n",
    "conn = sqlite3.connect(db_path)\n",
    "\n",
    "query = \"\"\"\n",
    "    SELECT oi.order_item_id,\n",
    "           oi.order_id,\n",
    "           oi.product_id,\n",
    "           oi.quantity,\n",
    "           oi.price AS item_price,\n",
    "           p.product_name,\n",
    "           p.category,\n",
    "           p.price AS product_price,\n",
    "           o.order_date,\n",
    "           o.customer_id,\n",
    "           o.total_amount\n",
    "    FROM order_items oi\n",
    "    JOIN products p ON oi.product_id = p.product_id\n",
    "    JOIN orders o ON oi.order_id = o.order_id\n",
    "\"\"\"\n",
    "\n",
    "# Читаємо у DataFrame\n",
    "df = pd.read_sql_query(query, conn)\n",
    "\n",
    "# Зберігаємо в CSV\n",
    "df.to_csv(\"restaurant_full_data.csv\", index=False)\n",
    "\n",
    "# Перевіряємо розмірність\n",
    "print(df.shape)  # очікується (74818, X)\n",
    "df.head()\n"
   ],
   "metadata": {
    "collapsed": false,
    "pycharm": {
     "name": "#%%\n"
    },
    "ExecuteTime": {
     "end_time": "2025-08-09T00:11:38.119336Z",
     "start_time": "2025-08-09T00:11:38.066850Z"
    }
   },
   "outputs": [
    {
     "ename": "DatabaseError",
     "evalue": "Execution failed on sql '\n        SELECT oi.order_item_id,\n               oi.order_id,\n               oi.product_id,\n               oi.quantity,\n               oi.price AS item_price,\n               p.product_name,\n               p.category,\n               p.price  AS product_price,\n               o.order_date,\n               o.customer_id,\n               o.total_amount\n        FROM order_items oi\n                 JOIN products p ON oi.product_id = p.product_id\n                 JOIN orders o ON oi.order_id = o.order_id         ': no such table: order_items",
     "output_type": "error",
     "traceback": [
      "\u001B[31m---------------------------------------------------------------------------\u001B[39m",
      "\u001B[31mOperationalError\u001B[39m                          Traceback (most recent call last)",
      "\u001B[36mFile \u001B[39m\u001B[32m~\\PycharmProjects\\py-fastapi-city-temperature-management-api\\.venv\\Lib\\site-packages\\pandas\\io\\sql.py:2664\u001B[39m, in \u001B[36mSQLiteDatabase.execute\u001B[39m\u001B[34m(self, sql, params)\u001B[39m\n\u001B[32m   2663\u001B[39m \u001B[38;5;28;01mtry\u001B[39;00m:\n\u001B[32m-> \u001B[39m\u001B[32m2664\u001B[39m     \u001B[43mcur\u001B[49m\u001B[43m.\u001B[49m\u001B[43mexecute\u001B[49m\u001B[43m(\u001B[49m\u001B[43msql\u001B[49m\u001B[43m,\u001B[49m\u001B[43m \u001B[49m\u001B[43m*\u001B[49m\u001B[43margs\u001B[49m\u001B[43m)\u001B[49m\n\u001B[32m   2665\u001B[39m     \u001B[38;5;28;01mreturn\u001B[39;00m cur\n",
      "\u001B[31mOperationalError\u001B[39m: no such table: order_items",
      "\nThe above exception was the direct cause of the following exception:\n",
      "\u001B[31mDatabaseError\u001B[39m                             Traceback (most recent call last)",
      "\u001B[36mCell\u001B[39m\u001B[36m \u001B[39m\u001B[32mIn[10]\u001B[39m\u001B[32m, line 27\u001B[39m\n\u001B[32m      9\u001B[39m query = \u001B[33m\"\"\"\u001B[39m\n\u001B[32m     10\u001B[39m \u001B[33m        SELECT oi.order_item_id,\u001B[39m\n\u001B[32m     11\u001B[39m \u001B[33m               oi.order_id,\u001B[39m\n\u001B[32m   (...)\u001B[39m\u001B[32m     23\u001B[39m \u001B[33m                 JOIN orders o ON oi.order_id = o.order_id \u001B[39m\u001B[38;5;130;01m\\\u001B[39;00m\n\u001B[32m     24\u001B[39m \u001B[33m        \u001B[39m\u001B[33m\"\"\"\u001B[39m\n\u001B[32m     26\u001B[39m \u001B[38;5;66;03m# Читаємо у DataFrame\u001B[39;00m\n\u001B[32m---> \u001B[39m\u001B[32m27\u001B[39m df = \u001B[43mpd\u001B[49m\u001B[43m.\u001B[49m\u001B[43mread_sql_query\u001B[49m\u001B[43m(\u001B[49m\u001B[43mquery\u001B[49m\u001B[43m,\u001B[49m\u001B[43m \u001B[49m\u001B[43mconn\u001B[49m\u001B[43m)\u001B[49m\n\u001B[32m     29\u001B[39m \u001B[38;5;66;03m# Зберігаємо в CSV\u001B[39;00m\n\u001B[32m     30\u001B[39m df.to_csv(\u001B[33m\"\u001B[39m\u001B[33mrestaurant_full_data.csv\u001B[39m\u001B[33m\"\u001B[39m, index=\u001B[38;5;28;01mFalse\u001B[39;00m)\n",
      "\u001B[36mFile \u001B[39m\u001B[32m~\\PycharmProjects\\py-fastapi-city-temperature-management-api\\.venv\\Lib\\site-packages\\pandas\\io\\sql.py:528\u001B[39m, in \u001B[36mread_sql_query\u001B[39m\u001B[34m(sql, con, index_col, coerce_float, params, parse_dates, chunksize, dtype, dtype_backend)\u001B[39m\n\u001B[32m    525\u001B[39m \u001B[38;5;28;01massert\u001B[39;00m dtype_backend \u001B[38;5;129;01mis\u001B[39;00m \u001B[38;5;129;01mnot\u001B[39;00m lib.no_default\n\u001B[32m    527\u001B[39m \u001B[38;5;28;01mwith\u001B[39;00m pandasSQL_builder(con) \u001B[38;5;28;01mas\u001B[39;00m pandas_sql:\n\u001B[32m--> \u001B[39m\u001B[32m528\u001B[39m     \u001B[38;5;28;01mreturn\u001B[39;00m \u001B[43mpandas_sql\u001B[49m\u001B[43m.\u001B[49m\u001B[43mread_query\u001B[49m\u001B[43m(\u001B[49m\n\u001B[32m    529\u001B[39m \u001B[43m        \u001B[49m\u001B[43msql\u001B[49m\u001B[43m,\u001B[49m\n\u001B[32m    530\u001B[39m \u001B[43m        \u001B[49m\u001B[43mindex_col\u001B[49m\u001B[43m=\u001B[49m\u001B[43mindex_col\u001B[49m\u001B[43m,\u001B[49m\n\u001B[32m    531\u001B[39m \u001B[43m        \u001B[49m\u001B[43mparams\u001B[49m\u001B[43m=\u001B[49m\u001B[43mparams\u001B[49m\u001B[43m,\u001B[49m\n\u001B[32m    532\u001B[39m \u001B[43m        \u001B[49m\u001B[43mcoerce_float\u001B[49m\u001B[43m=\u001B[49m\u001B[43mcoerce_float\u001B[49m\u001B[43m,\u001B[49m\n\u001B[32m    533\u001B[39m \u001B[43m        \u001B[49m\u001B[43mparse_dates\u001B[49m\u001B[43m=\u001B[49m\u001B[43mparse_dates\u001B[49m\u001B[43m,\u001B[49m\n\u001B[32m    534\u001B[39m \u001B[43m        \u001B[49m\u001B[43mchunksize\u001B[49m\u001B[43m=\u001B[49m\u001B[43mchunksize\u001B[49m\u001B[43m,\u001B[49m\n\u001B[32m    535\u001B[39m \u001B[43m        \u001B[49m\u001B[43mdtype\u001B[49m\u001B[43m=\u001B[49m\u001B[43mdtype\u001B[49m\u001B[43m,\u001B[49m\n\u001B[32m    536\u001B[39m \u001B[43m        \u001B[49m\u001B[43mdtype_backend\u001B[49m\u001B[43m=\u001B[49m\u001B[43mdtype_backend\u001B[49m\u001B[43m,\u001B[49m\n\u001B[32m    537\u001B[39m \u001B[43m    \u001B[49m\u001B[43m)\u001B[49m\n",
      "\u001B[36mFile \u001B[39m\u001B[32m~\\PycharmProjects\\py-fastapi-city-temperature-management-api\\.venv\\Lib\\site-packages\\pandas\\io\\sql.py:2728\u001B[39m, in \u001B[36mSQLiteDatabase.read_query\u001B[39m\u001B[34m(self, sql, index_col, coerce_float, parse_dates, params, chunksize, dtype, dtype_backend)\u001B[39m\n\u001B[32m   2717\u001B[39m \u001B[38;5;28;01mdef\u001B[39;00m\u001B[38;5;250m \u001B[39m\u001B[34mread_query\u001B[39m(\n\u001B[32m   2718\u001B[39m     \u001B[38;5;28mself\u001B[39m,\n\u001B[32m   2719\u001B[39m     sql,\n\u001B[32m   (...)\u001B[39m\u001B[32m   2726\u001B[39m     dtype_backend: DtypeBackend | Literal[\u001B[33m\"\u001B[39m\u001B[33mnumpy\u001B[39m\u001B[33m\"\u001B[39m] = \u001B[33m\"\u001B[39m\u001B[33mnumpy\u001B[39m\u001B[33m\"\u001B[39m,\n\u001B[32m   2727\u001B[39m ) -> DataFrame | Iterator[DataFrame]:\n\u001B[32m-> \u001B[39m\u001B[32m2728\u001B[39m     cursor = \u001B[38;5;28;43mself\u001B[39;49m\u001B[43m.\u001B[49m\u001B[43mexecute\u001B[49m\u001B[43m(\u001B[49m\u001B[43msql\u001B[49m\u001B[43m,\u001B[49m\u001B[43m \u001B[49m\u001B[43mparams\u001B[49m\u001B[43m)\u001B[49m\n\u001B[32m   2729\u001B[39m     columns = [col_desc[\u001B[32m0\u001B[39m] \u001B[38;5;28;01mfor\u001B[39;00m col_desc \u001B[38;5;129;01min\u001B[39;00m cursor.description]\n\u001B[32m   2731\u001B[39m     \u001B[38;5;28;01mif\u001B[39;00m chunksize \u001B[38;5;129;01mis\u001B[39;00m \u001B[38;5;129;01mnot\u001B[39;00m \u001B[38;5;28;01mNone\u001B[39;00m:\n",
      "\u001B[36mFile \u001B[39m\u001B[32m~\\PycharmProjects\\py-fastapi-city-temperature-management-api\\.venv\\Lib\\site-packages\\pandas\\io\\sql.py:2676\u001B[39m, in \u001B[36mSQLiteDatabase.execute\u001B[39m\u001B[34m(self, sql, params)\u001B[39m\n\u001B[32m   2673\u001B[39m     \u001B[38;5;28;01mraise\u001B[39;00m ex \u001B[38;5;28;01mfrom\u001B[39;00m\u001B[38;5;250m \u001B[39m\u001B[34;01minner_exc\u001B[39;00m\n\u001B[32m   2675\u001B[39m ex = DatabaseError(\u001B[33mf\u001B[39m\u001B[33m\"\u001B[39m\u001B[33mExecution failed on sql \u001B[39m\u001B[33m'\u001B[39m\u001B[38;5;132;01m{\u001B[39;00msql\u001B[38;5;132;01m}\u001B[39;00m\u001B[33m'\u001B[39m\u001B[33m: \u001B[39m\u001B[38;5;132;01m{\u001B[39;00mexc\u001B[38;5;132;01m}\u001B[39;00m\u001B[33m\"\u001B[39m)\n\u001B[32m-> \u001B[39m\u001B[32m2676\u001B[39m \u001B[38;5;28;01mraise\u001B[39;00m ex \u001B[38;5;28;01mfrom\u001B[39;00m\u001B[38;5;250m \u001B[39m\u001B[34;01mexc\u001B[39;00m\n",
      "\u001B[31mDatabaseError\u001B[39m: Execution failed on sql '\n        SELECT oi.order_item_id,\n               oi.order_id,\n               oi.product_id,\n               oi.quantity,\n               oi.price AS item_price,\n               p.product_name,\n               p.category,\n               p.price  AS product_price,\n               o.order_date,\n               o.customer_id,\n               o.total_amount\n        FROM order_items oi\n                 JOIN products p ON oi.product_id = p.product_id\n                 JOIN orders o ON oi.order_id = o.order_id         ': no such table: order_items"
     ]
    }
   ],
   "execution_count": 10
  },
  {
   "cell_type": "markdown",
   "source": [
    "print(os.path.getsize(\"db.sqlite3\"), \"байт\")# Task 1\n",
    "Get Top 10 most popular products in restaurant sold by Quantity.\n",
    "Count how many times each product was sold and create a pie chart with percentage of popularity (by quantity) for top 10 of them.\n",
    "\n",
    "Example:\n",
    "\n",
    "![pie chart](../demo/pie.png)"
   ],
   "metadata": {
    "collapsed": false,
    "pycharm": {
     "name": "#%% md\n"
    }
   }
  },
  {
   "cell_type": "code",
   "execution_count": null,
   "outputs": [],
   "source": [
    "top_products = (\n",
    "    df.groupby(\"product_name\")[\"quantity\"]\n",
    "    .sum()\n",
    "    .sort_values(ascending=False)\n",
    "    .head(10)\n",
    ")\n",
    "\n",
    "plt.figure(figsize=(8, 8))\n",
    "plt.pie(\n",
    "    top_products,\n",
    "    labels=top_products.index,\n",
    "    autopct=lambda p: f'{p:.1f}% ({int(p * top_products.sum() / 100)})'\n",
    ")\n",
    "plt.title(\"Top 10 positions in menu by quantity\")\n",
    "plt.ylabel(\"Quantity\")\n",
    "plt.show()"
   ],
   "metadata": {
    "collapsed": false,
    "pycharm": {
     "name": "#%%\n"
    }
   }
  },
  {
   "cell_type": "markdown",
   "source": [
    "# Task 2\n",
    "Calculate `Item Price` (Product Price * Quantity) for each Order Item in dataframe.\n",
    "And Make the same Top 10 pie chart, but this time by `Item Price`. So this chart should describe not the most popular products by quantity, but which products (top 10) make the most money for restaurant. It should be also with percentage."
   ],
   "metadata": {
    "collapsed": false,
    "pycharm": {
     "name": "#%% md\n"
    }
   }
  },
  {
   "cell_type": "code",
   "execution_count": null,
   "outputs": [],
   "source": [
    "df[\"item_total\"] = df[\"product_price\"] * df[\"quantity\"]\n",
    "\n",
    "# Групуємо по product_name і сумуємо прибуток\n",
    "top_revenue_products = (\n",
    "    df.groupby(\"product_name\")[\"item_total\"]\n",
    "    .sum()\n",
    "    .sort_values(ascending=False)\n",
    "    .head(10)\n",
    ")\n",
    "\n",
    "# Будуємо кругову діаграму\n",
    "plt.figure(figsize=(8, 8))\n",
    "plt.pie(\n",
    "    top_revenue_products,\n",
    "    labels=top_revenue_products.index,\n",
    "    autopct=lambda p: f'{p:.1f}% (${p * top_revenue_products.sum() / 100:.0f})'\n",
    ")\n",
    "plt.title(\"Top 10 products by total revenue\")\n",
    "plt.ylabel(\"Revenue\")\n",
    "plt.show()"
   ],
   "metadata": {
    "collapsed": false,
    "pycharm": {
     "name": "#%%\n",
     "is_executing": true
    }
   }
  },
  {
   "cell_type": "markdown",
   "source": [
    "# Task 3\n",
    "Calculate `Order Hour` based on `Order Datetime`, which will tell about the specific our the order was created (from 0 to 23). Using `Order Hour` create a bar chart, which will tell the total restaurant income based on the hour order was created. So on x-axis - it will be values from 0 to 23 (hours), on y-axis - it will be the total sum of order prices, which were sold on that hour.\n",
    "\n",
    "Example:\n",
    "\n",
    "![bar chart](../demo/bar.png)"
   ],
   "metadata": {
    "collapsed": false,
    "pycharm": {
     "name": "#%% md\n"
    }
   }
  },
  {
   "cell_type": "code",
   "execution_count": null,
   "outputs": [],
   "source": [
    "df['order_date'] = pd.to_datetime(df['order_date'])\n",
    "\n",
    "# Витягуємо годину замовлення\n",
    "df['Order Hour'] = df['order_date'].dt.hour\n",
    "\n",
    "# Обчислюємо загальну суму за позицію\n",
    "df['total_item_price'] = df['item_price'] * df['quantity']\n",
    "\n",
    "# Групуємо по годині, сумуємо доходи\n",
    "income_per_hour = df.groupby('Order Hour')['total_item_price'].sum()\n",
    "\n",
    "# Створюємо діаграму\n",
    "plt.figure(figsize=(10,6))\n",
    "income_per_hour.plot(kind='bar', color='skyblue')\n",
    "plt.title('Total Restaurant Income per Order Hour')\n",
    "plt.xlabel('Hour of the Day')\n",
    "plt.ylabel('Total Income')\n",
    "plt.xticks(rotation=0)  # години горизонтально\n",
    "plt.grid(axis='y', linestyle='--', alpha=0.7)\n",
    "plt.show()\n"
   ],
   "metadata": {
    "collapsed": false,
    "pycharm": {
     "name": "#%%\n"
    }
   }
  },
  {
   "cell_type": "markdown",
   "source": [
    "# Task 4\n",
    "Make similar bar chart, but right now with `Order Day Of The Week` (from Monday to Sunday), and also analyze total restaurant income by each day of the week."
   ],
   "metadata": {
    "collapsed": false,
    "pycharm": {
     "name": "#%% md\n"
    }
   }
  },
  {
   "cell_type": "code",
   "execution_count": null,
   "outputs": [],
   "source": [
    "df['order_date'] = pd.to_datetime(df['order_date'])\n",
    "\n",
    "df['Order Day Of The Week'] = df['order_date'].dt.dayofweek\n",
    "\n",
    "days_map = {0: 'Monday', 1: 'Tuesday', 2: 'Wednesday', 3: 'Thursday',\n",
    "            4: 'Friday', 5: 'Saturday', 6: 'Sunday'}\n",
    "\n",
    "df['Order Day Name'] = df['Order Day Of The Week'].map(days_map)\n",
    "\n",
    "# Рахуємо повну вартість кожної позиції\n",
    "df['total_item_price'] = df['item_price'] * df['quantity']\n",
    "\n",
    "# Групуємо по дню тижня, сумуємо total_item_price\n",
    "income_per_day = df.groupby('Order Day Name')['total_item_price'].sum()\n",
    "\n",
    "# Встановлюємо порядок днів тижня\n",
    "ordered_days = ['Monday', 'Tuesday', 'Wednesday', 'Thursday', 'Friday', 'Saturday', 'Sunday']\n",
    "income_per_day = income_per_day.reindex(ordered_days)\n",
    "\n",
    "plt.figure(figsize=(10,6))\n",
    "income_per_day.plot(kind='bar', color='coral')\n",
    "plt.title('Total Restaurant Income per Day of the Week')\n",
    "plt.xlabel('Day of the Week')\n",
    "plt.ylabel('Total Income')\n",
    "plt.xticks(rotation=45)\n",
    "plt.grid(axis='y', linestyle='--', alpha=0.7)\n",
    "plt.show()\n"
   ],
   "metadata": {
    "collapsed": false,
    "pycharm": {
     "name": "#%%\n"
    }
   }
  }
 ],
 "metadata": {
  "kernelspec": {
   "display_name": "Python 3",
   "language": "python",
   "name": "python3"
  },
  "language_info": {
   "codemirror_mode": {
    "name": "ipython",
    "version": 2
   },
   "file_extension": ".py",
   "mimetype": "text/x-python",
   "name": "python",
   "nbconvert_exporter": "python",
   "pygments_lexer": "ipython2",
   "version": "2.7.6"
  }
 },
 "nbformat": 4,
 "nbformat_minor": 0
}
